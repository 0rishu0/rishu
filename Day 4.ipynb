{
 "cells": [
  {
   "cell_type": "markdown",
   "id": "fc104b6d",
   "metadata": {},
   "source": [
    "# Multiple Operators & Conditions\n",
    "## Operator Precedence\n",
    "- It is an extension of the mathematical idea of order of operation \n",
    "- Multiplication being performed before addition, etc.(as we have learnt BODMAS)\n",
    "- to include other operators, such as those in Boolean logic."
   ]
  },
  {
   "cell_type": "code",
   "execution_count": 1,
   "id": "a62f3863",
   "metadata": {},
   "outputs": [
    {
     "name": "stdout",
     "output_type": "stream",
     "text": [
      "True\n",
      "False\n",
      "True\n"
     ]
    }
   ],
   "source": [
    "print( False == False or True ) #this means false = false or false = true, any of them so output will be true\n",
    "\n",
    "print( False == (False or True ))#this means false = false and flase = true which is tend to make the statement false\n",
    "\n",
    "print( (False == False ) or True ) #as we solve parenthesis false it's saying false = false which is correct so output will be trur\n",
    "\n",
    "#pyhton's order of operations is the same as that of normal maths: parenthesis first \n",
    "#then exponentiation, then multiplication/division and then addition/substraction"
   ]
  },
  {
   "cell_type": "code",
   "execution_count": 2,
   "id": "e291376d",
   "metadata": {},
   "outputs": [
    {
     "name": "stdout",
     "output_type": "stream",
     "text": [
      "No\n"
     ]
    }
   ],
   "source": [
    "if 1 + 1 * 3 == 6:\n",
    "    print(\"Yes\")\n",
    "else:\n",
    "    print('No')\n",
    "    \n",
    "#program is saying to check if 1+1*3 which is '4' if equal to 6 print 'Yes' and if not print 'No' \n",
    "#and bcus 4 is not eqal to 6 output will be 'No'"
   ]
  },
  {
   "cell_type": "code",
   "execution_count": 3,
   "id": "08b13e00",
   "metadata": {},
   "outputs": [
    {
     "name": "stdout",
     "output_type": "stream",
     "text": [
      "Passed!\n"
     ]
    }
   ],
   "source": [
    "grade = 88\n",
    "\n",
    "if (grade >= 70 and grade <= 100):\n",
    "    print('Passed!')\n",
    "    \n",
    "#program is saying if the given grades are more than or equal to 70\n",
    "#and less than or equal to 100\n",
    "#print as 'Passed!'"
   ]
  },
  {
   "cell_type": "code",
   "execution_count": 4,
   "id": "2b41b608",
   "metadata": {},
   "outputs": [
    {
     "name": "stdout",
     "output_type": "stream",
     "text": [
      "No\n"
     ]
    }
   ],
   "source": [
    "x = 4\n",
    "y = 2\n",
    "\n",
    "if not 1+1 == y or x == 4 and 7 == 8:\n",
    "    print('Yes')\n",
    "elif x > y:\n",
    "    print('No')\n",
    "    \n",
    "#as there are two boolean operators 'or' and 'and' \n",
    "#program will look into 'and' statement first where 7 != 8 and jump to other statement to check\n",
    "#if x is greater than y print 'No' and bcus the statemnt is true it will print \"No\""
   ]
  },
  {
   "cell_type": "markdown",
   "id": "292aee93",
   "metadata": {},
   "source": [
    "# [LISTS]\n",
    "- Lists are used to store items.\n",
    "- A list is Created using square brackets with commas separating items."
   ]
  },
  {
   "cell_type": "code",
   "execution_count": 9,
   "id": "b209ac5d",
   "metadata": {},
   "outputs": [],
   "source": [
    "words = [\"Hello\", \"World\", '!']  #this is a list assigning a variable called 'words'"
   ]
  },
  {
   "cell_type": "code",
   "execution_count": 10,
   "id": "f855a326",
   "metadata": {},
   "outputs": [
    {
     "name": "stdout",
     "output_type": "stream",
     "text": [
      "['Hello', 'World', '!']\n"
     ]
    }
   ],
   "source": [
    "print(words) #just print list if you want to see all the elements in the list"
   ]
  },
  {
   "cell_type": "code",
   "execution_count": 11,
   "id": "82ec79c1",
   "metadata": {},
   "outputs": [
    {
     "name": "stdout",
     "output_type": "stream",
     "text": [
      "Hello\n",
      "World\n",
      "!\n"
     ]
    }
   ],
   "source": [
    "#what if you just want to print 'Hello'\n",
    "#we use indexing for this\n",
    "#indexing starts from 0\n",
    "#suppose you have 100 of elements in the list so the very first element will be at index 0 \n",
    "#then second element at 1, third element at 2 and so on\n",
    "\n",
    "print(words[0])\n",
    "print(words[1])\n",
    "print(words[2])"
   ]
  },
  {
   "cell_type": "code",
   "execution_count": 13,
   "id": "dff071f8",
   "metadata": {},
   "outputs": [
    {
     "name": "stdout",
     "output_type": "stream",
     "text": [
      "4\n"
     ]
    }
   ],
   "source": [
    "nums = [5, 4, 3, 2, 1]\n",
    "print(nums[1]) #it is saying print the element which is at index 1 in the list 'nums'"
   ]
  },
  {
   "cell_type": "markdown",
   "id": "b5e32702",
   "metadata": {},
   "source": [
    "## Nested [List]\n",
    "- simply means list inside list"
   ]
  },
  {
   "cell_type": "code",
   "execution_count": 15,
   "id": "cf5d5172",
   "metadata": {},
   "outputs": [
    {
     "name": "stdout",
     "output_type": "stream",
     "text": [
      "0\n",
      "[1, 2, 3]\n",
      "3\n"
     ]
    }
   ],
   "source": [
    "things = [\"strings\", 0, [1, 2, 3], 4.56]\n",
    "\n",
    "#here we have a nested list inside the list at index 2 of 3 elements\n",
    "\n",
    "print(things[1])\n",
    "print(things[2]) #this want us to print 2 index element of the list, which is a nested list itself  \n",
    "print(things[2][2]) #this basically wants us to print the 2nd index elements of nested list"
   ]
  },
  {
   "cell_type": "code",
   "execution_count": 28,
   "id": "372becfb",
   "metadata": {},
   "outputs": [],
   "source": [
    "m = [[1, 2, 3],[4, 5, 6]]  #two nested list"
   ]
  },
  {
   "cell_type": "code",
   "execution_count": 29,
   "id": "65581255",
   "metadata": {},
   "outputs": [
    {
     "name": "stdout",
     "output_type": "stream",
     "text": [
      "[[1, 2, 3], [4, 5, 6]]\n"
     ]
    }
   ],
   "source": [
    "print(m)"
   ]
  },
  {
   "cell_type": "code",
   "execution_count": 30,
   "id": "d57fff75",
   "metadata": {},
   "outputs": [
    {
     "name": "stdout",
     "output_type": "stream",
     "text": [
      "6\n"
     ]
    }
   ],
   "source": [
    "print(m[1][2])"
   ]
  },
  {
   "cell_type": "code",
   "execution_count": 31,
   "id": "ed7d5e7e",
   "metadata": {},
   "outputs": [
    {
     "name": "stdout",
     "output_type": "stream",
     "text": [
      "67\n"
     ]
    }
   ],
   "source": [
    "list = [42, 55, 67]\n",
    "\n",
    "#created a list and i want to print 3rd element\n",
    "\n",
    "print(list[2])"
   ]
  },
  {
   "cell_type": "code",
   "execution_count": 38,
   "id": "6826c248",
   "metadata": {},
   "outputs": [
    {
     "name": "stdout",
     "output_type": "stream",
     "text": [
      "H\n",
      "e\n",
      "l\n",
      "l\n",
      "o\n",
      " \n",
      "w\n",
      "o\n",
      "r\n",
      "l\n",
      "d\n"
     ]
    }
   ],
   "source": [
    "#String can also be indexed like lists\n",
    "\n",
    "str = (\"Hello world\")\n",
    "\n",
    "print(str[0])   # 'H' is at index 0\n",
    "print(str[1])   # 'e' is at index 1\n",
    "print(str[2])   # 'l' is at index 2  \n",
    "print(str[3])   # 'l' is at index 3\n",
    "print(str[4])   # 'l' is at index 4\n",
    "print(str[5])   # 'space' is at index 5\n",
    "print(str[6])   # 'w' is at index 6\n",
    "print(str[7])   # 'o' is at index 7\n",
    "print(str[8])   # 'r' is at index 8\n",
    "print(str[9])   # 'l' is at index 9\n",
    "print(str[10])  # 'e' is at index 10"
   ]
  },
  {
   "cell_type": "code",
   "execution_count": 40,
   "id": "ec7961bf",
   "metadata": {},
   "outputs": [
    {
     "name": "stdout",
     "output_type": "stream",
     "text": [
      "5\n",
      "2\n",
      "1\n"
     ]
    },
    {
     "ename": "IndexError",
     "evalue": "list index out of range",
     "output_type": "error",
     "traceback": [
      "\u001b[1;31m---------------------------------------------------------------------------\u001b[0m",
      "\u001b[1;31mIndexError\u001b[0m                                Traceback (most recent call last)",
      "\u001b[1;32m<ipython-input-40-e7abea77dbcd>\u001b[0m in \u001b[0;36m<module>\u001b[1;34m\u001b[0m\n\u001b[0;32m      3\u001b[0m \u001b[0mprint\u001b[0m\u001b[1;33m(\u001b[0m\u001b[0mnum\u001b[0m\u001b[1;33m[\u001b[0m\u001b[1;36m3\u001b[0m\u001b[1;33m]\u001b[0m\u001b[1;33m[\u001b[0m\u001b[1;36m0\u001b[0m\u001b[1;33m]\u001b[0m\u001b[1;33m)\u001b[0m\u001b[1;33m\u001b[0m\u001b[1;33m\u001b[0m\u001b[0m\n\u001b[0;32m      4\u001b[0m \u001b[0mprint\u001b[0m\u001b[1;33m(\u001b[0m\u001b[0mnum\u001b[0m\u001b[1;33m[\u001b[0m\u001b[1;36m4\u001b[0m\u001b[1;33m]\u001b[0m\u001b[1;33m)\u001b[0m\u001b[1;33m\u001b[0m\u001b[1;33m\u001b[0m\u001b[0m\n\u001b[1;32m----> 5\u001b[1;33m \u001b[0mprint\u001b[0m\u001b[1;33m(\u001b[0m\u001b[0mnum\u001b[0m\u001b[1;33m[\u001b[0m\u001b[1;36m5\u001b[0m\u001b[1;33m]\u001b[0m\u001b[1;33m)\u001b[0m  \u001b[1;31m#this will going to cause an error bcus we do not have any elememt at index 5\u001b[0m\u001b[1;33m\u001b[0m\u001b[1;33m\u001b[0m\u001b[0m\n\u001b[0m",
      "\u001b[1;31mIndexError\u001b[0m: list index out of range"
     ]
    }
   ],
   "source": [
    "num = [5, 4, 3, [2], 1]\n",
    "print(num[0])\n",
    "print(num[3][0])\n",
    "print(num[4])  #this will print our 5th element which is at 4th index \n",
    "print(num[5])  #this will going to cause an error bcus we do not have any elememt at 5th index "
   ]
  },
  {
   "cell_type": "markdown",
   "id": "1d2b0463",
   "metadata": {},
   "source": [
    "# [LIST] OPERATIONS"
   ]
  },
  {
   "cell_type": "code",
   "execution_count": 42,
   "id": "866c5dd9",
   "metadata": {},
   "outputs": [],
   "source": [
    "#WHAT IF YOU FIND SOME WRONG ELEMENT IN YOUR LIST AND YOU WANT TO CORRECT IT\n",
    "#THERE IS A WAY, WE CAN REASSIGN TO INDEX WITH DIFFERENT ELEMENT"
   ]
  },
  {
   "cell_type": "code",
   "execution_count": 46,
   "id": "6138dd31",
   "metadata": {},
   "outputs": [
    {
     "name": "stdout",
     "output_type": "stream",
     "text": [
      "[7, 7, 5, 7, 7]\n"
     ]
    }
   ],
   "source": [
    "nums = [7, 7, 7, 7, 7]\n",
    "\n",
    "nums[2] = 5  #here i am saying change my 2nd index element with 5, 2nd index means 3rd element\n",
    "print(nums)"
   ]
  },
  {
   "cell_type": "code",
   "execution_count": 48,
   "id": "5c6959b3",
   "metadata": {},
   "outputs": [
    {
     "name": "stdout",
     "output_type": "stream",
     "text": [
      "2\n"
     ]
    }
   ],
   "source": [
    "nums = [1, 2, 3, 4, 5]\n",
    "nums[3] = nums[1]\n",
    "print(nums[3])"
   ]
  },
  {
   "cell_type": "code",
   "execution_count": 50,
   "id": "d6b12c9c",
   "metadata": {},
   "outputs": [
    {
     "name": "stdout",
     "output_type": "stream",
     "text": [
      "[1, 2, 3, 4, 5, 6]\n",
      "[1, 2, 3, 1, 2, 3, 1, 2, 3]\n"
     ]
    }
   ],
   "source": [
    "#list can be added and multiplied in the same way as strings\n",
    "nums = [1, 2, 3]\n",
    "print(nums + [4, 5, 6])\n",
    "print(nums * 3)"
   ]
  },
  {
   "cell_type": "code",
   "execution_count": 51,
   "id": "18e3cd15",
   "metadata": {},
   "outputs": [
    {
     "name": "stdout",
     "output_type": "stream",
     "text": [
      "[33, 22, 56]\n"
     ]
    }
   ],
   "source": [
    "nums = [33, 42, 56]\n",
    "nums[1] = 22\n",
    "print(nums)"
   ]
  },
  {
   "cell_type": "code",
   "execution_count": 52,
   "id": "400479ab",
   "metadata": {},
   "outputs": [
    {
     "name": "stdout",
     "output_type": "stream",
     "text": [
      "True\n",
      "True\n",
      "False\n"
     ]
    }
   ],
   "source": [
    "#to check if an item is in a list, the 'in' operator can be used\n",
    "#it returns True if the item occusrs one or more times in the list, and flase if it doesn't\n",
    "\n",
    "words = [\"spam\", \"eggs\", \"spam\", \"sausage\"]\n",
    "print(\"spam\" in words)\n",
    "print(\"eggs\" in words)\n",
    "print(\"tomato\" in words)"
   ]
  },
  {
   "cell_type": "code",
   "execution_count": 53,
   "id": "d8d6327a",
   "metadata": {},
   "outputs": [
    {
     "name": "stdout",
     "output_type": "stream",
     "text": [
      "7\n"
     ]
    }
   ],
   "source": [
    "#practice\n",
    "#What is the result of this cod\n",
    "\n",
    "nums = [10, 9, 8, 7, 6, 5]\n",
    "nums[0] = nums[1]-5\n",
    "if 4 in nums:\n",
    "    print(nums[3])\n",
    "else:\n",
    "    print(nums[4])"
   ]
  },
  {
   "cell_type": "code",
   "execution_count": 56,
   "id": "e54dbf9c",
   "metadata": {},
   "outputs": [
    {
     "name": "stdout",
     "output_type": "stream",
     "text": [
      "True\n",
      "True\n",
      "False\n",
      "False\n"
     ]
    }
   ],
   "source": [
    "#to check if an item is not in a list, you can use \"not\" operator in one of the following ways\n",
    "nums = [1, 2, 3]\n",
    "print(not 4 in nums)  #it's saying 4 not in nums??\n",
    "print(4 not in nums) \n",
    "print(not 3 in nums)\n",
    "print(3 not in nums)"
   ]
  },
  {
   "cell_type": "code",
   "execution_count": 59,
   "id": "4cb91121",
   "metadata": {},
   "outputs": [
    {
     "name": "stdout",
     "output_type": "stream",
     "text": [
      "Yes\n"
     ]
    }
   ],
   "source": [
    "letters = [\"a\", \"b\", \"z\"]\n",
    "if \"z\" in letters:\n",
    "    print(\"Yes\")"
   ]
  }
 ],
 "metadata": {
  "kernelspec": {
   "display_name": "Python 3",
   "language": "python",
   "name": "python3"
  },
  "language_info": {
   "codemirror_mode": {
    "name": "ipython",
    "version": 3
   },
   "file_extension": ".py",
   "mimetype": "text/x-python",
   "name": "python",
   "nbconvert_exporter": "python",
   "pygments_lexer": "ipython3",
   "version": "3.8.8"
  }
 },
 "nbformat": 4,
 "nbformat_minor": 5
}
