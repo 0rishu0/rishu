{
 "cells": [
  {
   "cell_type": "markdown",
   "id": "aab0db76",
   "metadata": {},
   "source": [
    "# Strings\n",
    "a string can be created by entering text between two single or double quotation marks\n",
    "and not only texts but a integer or a float inside the quotation marks will become strings"
   ]
  },
  {
   "cell_type": "code",
   "execution_count": 1,
   "id": "8a5cdc28",
   "metadata": {},
   "outputs": [
    {
     "name": "stdout",
     "output_type": "stream",
     "text": [
      "Hello, Peter\n"
     ]
    }
   ],
   "source": [
    "print(\"Hello, Peter\")"
   ]
  },
  {
   "cell_type": "code",
   "execution_count": 2,
   "id": "2d69e3d8",
   "metadata": {},
   "outputs": [
    {
     "data": {
      "text/plain": [
       "(str, float)"
      ]
     },
     "execution_count": 2,
     "metadata": {},
     "output_type": "execute_result"
    }
   ],
   "source": [
    "type(\"4.0\"), type(4.0)  #data type with and without quoation"
   ]
  },
  {
   "cell_type": "code",
   "execution_count": 3,
   "id": "75e6a34a",
   "metadata": {},
   "outputs": [
    {
     "data": {
      "text/plain": [
       "(str, int)"
      ]
     },
     "execution_count": 3,
     "metadata": {},
     "output_type": "execute_result"
    }
   ],
   "source": [
    "type(\"4\"), type(4)"
   ]
  },
  {
   "cell_type": "code",
   "execution_count": 4,
   "id": "312a488f",
   "metadata": {},
   "outputs": [
    {
     "name": "stdout",
     "output_type": "stream",
     "text": [
      "peter's suit\n"
     ]
    }
   ],
   "source": [
    "print(\"peter\\'s suit\")   #using Backslashes to escape tabs"
   ]
  },
  {
   "cell_type": "code",
   "execution_count": 5,
   "id": "ddd6b810",
   "metadata": {},
   "outputs": [
    {
     "name": "stdout",
     "output_type": "stream",
     "text": [
      "I'm learning\n"
     ]
    }
   ],
   "source": [
    "print(\"I\\'m learning\")"
   ]
  },
  {
   "cell_type": "markdown",
   "id": "76ceb085",
   "metadata": {},
   "source": [
    "# New lines"
   ]
  },
  {
   "cell_type": "code",
   "execution_count": 6,
   "id": "474f4209",
   "metadata": {},
   "outputs": [
    {
     "name": "stdout",
     "output_type": "stream",
     "text": [
      "one\n",
      "Two\n",
      "Three\n"
     ]
    }
   ],
   "source": [
    "print(\"one\\nTwo\\nThree\")"
   ]
  },
  {
   "cell_type": "code",
   "execution_count": 7,
   "id": "2b586f3f",
   "metadata": {},
   "outputs": [
    {
     "name": "stdout",
     "output_type": "stream",
     "text": [
      "I\n",
      "am\n",
      "rishu \n"
     ]
    }
   ],
   "source": [
    "print('''I\n",
    "am\n",
    "rishu ''')"
   ]
  },
  {
   "cell_type": "code",
   "execution_count": 8,
   "id": "51766a91",
   "metadata": {},
   "outputs": [
    {
     "name": "stdout",
     "output_type": "stream",
     "text": [
      "This\n",
      "is a\n",
      "multiline \n",
      "text\n"
     ]
    }
   ],
   "source": [
    "print('''This\n",
    "is a\n",
    "multiline \n",
    "text''')"
   ]
  },
  {
   "cell_type": "code",
   "execution_count": 9,
   "id": "669b72b6",
   "metadata": {},
   "outputs": [
    {
     "name": "stdout",
     "output_type": "stream",
     "text": [
      "HI\n",
      "This\n",
      "is \n",
      "great\n"
     ]
    }
   ],
   "source": [
    "print('HI')\n",
    "print('''This\n",
    "is \n",
    "great''')"
   ]
  },
  {
   "cell_type": "markdown",
   "id": "c00d9a72",
   "metadata": {},
   "source": [
    "# Concatenation\n",
    "- as with integers and floats, strings in python can be added, using a process called concatenation"
   ]
  },
  {
   "cell_type": "code",
   "execution_count": 10,
   "id": "3895f607",
   "metadata": {},
   "outputs": [
    {
     "name": "stdout",
     "output_type": "stream",
     "text": [
      "0rishu0\n"
     ]
    }
   ],
   "source": [
    "print(\"0\"+\"rishu\"+\"0\")"
   ]
  },
  {
   "cell_type": "code",
   "execution_count": 11,
   "id": "789c99b4",
   "metadata": {},
   "outputs": [
    {
     "name": "stdout",
     "output_type": "stream",
     "text": [
      "Day2of100Daysofcode\n"
     ]
    }
   ],
   "source": [
    "print(\"Day2\" + \"of\" \"100Daysofcode\") "
   ]
  },
  {
   "cell_type": "code",
   "execution_count": 12,
   "id": "dcfa8c29",
   "metadata": {},
   "outputs": [
    {
     "name": "stdout",
     "output_type": "stream",
     "text": [
      "22\n",
      "4\n"
     ]
    },
    {
     "data": {
      "text/plain": [
       "(None, None)"
      ]
     },
     "execution_count": 12,
     "metadata": {},
     "output_type": "execute_result"
    }
   ],
   "source": [
    "print(\"2\"+\"2\"), print(2+2)"
   ]
  },
  {
   "cell_type": "code",
   "execution_count": 13,
   "id": "a1cf0f68",
   "metadata": {},
   "outputs": [
    {
     "name": "stdout",
     "output_type": "stream",
     "text": [
      "pythonisawesome\n"
     ]
    }
   ],
   "source": [
    "print(\"python\"+\"is\"+\"awesome\")"
   ]
  },
  {
   "cell_type": "code",
   "execution_count": 14,
   "id": "e9409dec",
   "metadata": {},
   "outputs": [
    {
     "name": "stdout",
     "output_type": "stream",
     "text": [
      "spamspamspam\n"
     ]
    }
   ],
   "source": [
    "print(\"spam\"*3)  #string can be multiplied by integers \n",
    "\n",
    "#this produces a repeated version of the original string"
   ]
  },
  {
   "cell_type": "code",
   "execution_count": 15,
   "id": "b7e87b5a",
   "metadata": {},
   "outputs": [
    {
     "name": "stdout",
     "output_type": "stream",
     "text": [
      "2222\n",
      "777\n"
     ]
    },
    {
     "data": {
      "text/plain": [
       "(None, None)"
      ]
     },
     "execution_count": 15,
     "metadata": {},
     "output_type": "execute_result"
    }
   ],
   "source": [
    "print('2'*4), print('7'*3)"
   ]
  },
  {
   "cell_type": "markdown",
   "id": "eb92bdc1",
   "metadata": {},
   "source": [
    "# Variables\n",
    "- A variable allows you to store a value by assigning it to a name.\n",
    "- which can be used to refer to the value later in the program.\n",
    "- use '=' to assigne a variable"
   ]
  },
  {
   "cell_type": "code",
   "execution_count": 16,
   "id": "1e5fed83",
   "metadata": {},
   "outputs": [],
   "source": [
    "x = 42\n",
    "spam = \"0rishu0\" "
   ]
  },
  {
   "cell_type": "code",
   "execution_count": 17,
   "id": "aea04728",
   "metadata": {},
   "outputs": [
    {
     "name": "stdout",
     "output_type": "stream",
     "text": [
      "42\n",
      "0rishu0\n"
     ]
    },
    {
     "data": {
      "text/plain": [
       "(None, None)"
      ]
     },
     "execution_count": 17,
     "metadata": {},
     "output_type": "execute_result"
    }
   ],
   "source": [
    "print(x),  print(spam)"
   ]
  },
  {
   "cell_type": "code",
   "execution_count": 18,
   "id": "692f6701",
   "metadata": {},
   "outputs": [
    {
     "data": {
      "text/plain": [
       "(int, str)"
      ]
     },
     "execution_count": 18,
     "metadata": {},
     "output_type": "execute_result"
    }
   ],
   "source": [
    "type(x), type(spam)"
   ]
  },
  {
   "cell_type": "code",
   "execution_count": 20,
   "id": "f6dfb7a6",
   "metadata": {},
   "outputs": [
    {
     "name": "stdout",
     "output_type": "stream",
     "text": [
      "52\n",
      "22\n",
      "210\n",
      "7.0\n",
      "6\n",
      "2\n",
      "0rishu00rishu00rishu00rishu00rishu0\n"
     ]
    }
   ],
   "source": [
    "#some basic operations with variable \n",
    "print(x + 10)\n",
    "print(x - 20)\n",
    "print(x * 5)\n",
    "print(x / 6)\n",
    "print(x // 7)\n",
    "print(x % 8)\n",
    "print(spam * 5)"
   ]
  },
  {
   "cell_type": "code",
   "execution_count": null,
   "id": "a1f1a674",
   "metadata": {},
   "outputs": [],
   "source": []
  }
 ],
 "metadata": {
  "kernelspec": {
   "display_name": "Python 3",
   "language": "python",
   "name": "python3"
  },
  "language_info": {
   "codemirror_mode": {
    "name": "ipython",
    "version": 3
   },
   "file_extension": ".py",
   "mimetype": "text/x-python",
   "name": "python",
   "nbconvert_exporter": "python",
   "pygments_lexer": "ipython3",
   "version": "3.8.8"
  }
 },
 "nbformat": 4,
 "nbformat_minor": 5
}
