{
 "cells": [
  {
   "cell_type": "code",
   "execution_count": 20,
   "id": "5230f77d",
   "metadata": {},
   "outputs": [
    {
     "name": "stdout",
     "output_type": "stream",
     "text": [
      "Hello, World\n"
     ]
    }
   ],
   "source": [
    "print(\"Hello, World\")"
   ]
  },
  {
   "cell_type": "code",
   "execution_count": 23,
   "id": "6669d6b0",
   "metadata": {},
   "outputs": [
    {
     "name": "stdout",
     "output_type": "stream",
     "text": [
      "Hi\n"
     ]
    }
   ],
   "source": [
    "print(\"Hi\")"
   ]
  },
  {
   "cell_type": "code",
   "execution_count": 24,
   "id": "3ed2b3a5",
   "metadata": {},
   "outputs": [
    {
     "name": "stdout",
     "output_type": "stream",
     "text": [
      "Hello, World!\n"
     ]
    }
   ],
   "source": [
    "print(\"Hello, World!\")"
   ]
  },
  {
   "cell_type": "code",
   "execution_count": 25,
   "id": "205b63fd",
   "metadata": {},
   "outputs": [
    {
     "name": "stdout",
     "output_type": "stream",
     "text": [
      "A\n",
      "B\n",
      "c\n"
     ]
    }
   ],
   "source": [
    "print('A')\n",
    "print('B')\n",
    "print('c')"
   ]
  },
  {
   "cell_type": "markdown",
   "id": "9e06eaf3",
   "metadata": {},
   "source": [
    "# Simple Operations"
   ]
  },
  {
   "cell_type": "code",
   "execution_count": 37,
   "id": "12658a92",
   "metadata": {},
   "outputs": [
    {
     "name": "stdout",
     "output_type": "stream",
     "text": [
      "4\n",
      "6\n",
      "6\n",
      "14\n",
      "5.0\n",
      "6.0\n"
     ]
    }
   ],
   "source": [
    "print(2 + 2)\n",
    "print(5 + 4 - 3)\n",
    "print( 1 + 2 + 3) \n",
    "print(2 * (3 + 4))\n",
    "print(10 / 2) #division and the answer we'll get in float measns in decimal\n",
    "print((4 + 8) / 2)"
   ]
  },
  {
   "cell_type": "markdown",
   "id": "71fa7673",
   "metadata": {},
   "source": [
    "# Floats\n",
    "Floats are used in python to represent numbers that aren't integers(whole numbers)."
   ]
  },
  {
   "cell_type": "code",
   "execution_count": 70,
   "id": "a7eb0e08",
   "metadata": {},
   "outputs": [
    {
     "name": "stdout",
     "output_type": "stream",
     "text": [
      "0.75\n",
      "4.0\n",
      "42.0\n",
      "5.65\n",
      "15.0\n"
     ]
    }
   ],
   "source": [
    "print(3/4)\n",
    "print(8/2)\n",
    "print(6*7.0)\n",
    "print(4+1.65)\n",
    "print(1+2+3+4.0+5)"
   ]
  },
  {
   "cell_type": "markdown",
   "id": "39f113c5",
   "metadata": {},
   "source": [
    "# Exponentiation\n",
    "Besides addition, substraction, multiplication, and division, Python also\n",
    "supports exponentiation, which is the raising of one number to there power of another.\n",
    "This operation is performed using two 'asterisks'."
   ]
  },
  {
   "cell_type": "code",
   "execution_count": 71,
   "id": "e8b1350c",
   "metadata": {},
   "outputs": [
    {
     "name": "stdout",
     "output_type": "stream",
     "text": [
      "4\n",
      "16\n",
      "9\n",
      "25\n",
      "729\n",
      "361\n",
      "144\n",
      "125\n"
     ]
    }
   ],
   "source": [
    "print(2**2)\n",
    "print(4**2)\n",
    "print(3**2)\n",
    "print(5**2)\n",
    "print(27**2)\n",
    "print(19**2)\n",
    "print(12**2)\n",
    "print(5**3)"
   ]
  },
  {
   "cell_type": "code",
   "execution_count": 72,
   "id": "f02bed60",
   "metadata": {},
   "outputs": [
    {
     "name": "stdout",
     "output_type": "stream",
     "text": [
      "3.0\n"
     ]
    }
   ],
   "source": [
    "print(9 ** (1/2)) #using float in exponentiation\n",
    "\n",
    "#this will result into square root of 9"
   ]
  },
  {
   "cell_type": "markdown",
   "id": "095cb1ca",
   "metadata": {},
   "source": [
    "# Quotient and Remainder\n",
    "Quotient :- a result obtained by dividing one quantity by another. \n",
    "This floor division is done using two forward slashes // to determine the quotient\n",
    "\n",
    "Remainder:- The modulo operator is carried out with a percent symbol(%) and is used to get the\n",
    "remainder of a divison\n"
   ]
  },
  {
   "cell_type": "code",
   "execution_count": 65,
   "id": "fed7bdf1",
   "metadata": {},
   "outputs": [
    {
     "name": "stdout",
     "output_type": "stream",
     "text": [
      "3\n",
      "2\n"
     ]
    }
   ],
   "source": [
    "print(20//6)\n",
    "print(10//4)"
   ]
  },
  {
   "cell_type": "code",
   "execution_count": 68,
   "id": "54c92071",
   "metadata": {},
   "outputs": [
    {
     "name": "stdout",
     "output_type": "stream",
     "text": [
      "2\n",
      "0.25\n"
     ]
    }
   ],
   "source": [
    "print(20%6)\n",
    "print(1.25%0.5)"
   ]
  },
  {
   "cell_type": "code",
   "execution_count": 69,
   "id": "b4fe22ad",
   "metadata": {},
   "outputs": [
    {
     "name": "stdout",
     "output_type": "stream",
     "text": [
      "1\n"
     ]
    }
   ],
   "source": [
    "print(7%(5//2))"
   ]
  },
  {
   "cell_type": "markdown",
   "id": "092bb871",
   "metadata": {},
   "source": [
    "# Excercise for what I have learnt till now"
   ]
  },
  {
   "cell_type": "code",
   "execution_count": 81,
   "id": "5aaafa34",
   "metadata": {},
   "outputs": [
    {
     "name": "stdout",
     "output_type": "stream",
     "text": [
      "13\n",
      "I love Python\n",
      "4\n",
      "1\n",
      "2\n",
      "100000\n"
     ]
    }
   ],
   "source": [
    "print(1 + 4 * 3)\n",
    "\n",
    "print(\"I love Python\")\n",
    "\n",
    "print((3**2)//2)\n",
    "\n",
    "print(10%3)\n",
    "\n",
    "print(100//42)\n",
    "\n",
    "print(10**5)"
   ]
  },
  {
   "cell_type": "code",
   "execution_count": null,
   "id": "d7cb671e",
   "metadata": {},
   "outputs": [],
   "source": []
  }
 ],
 "metadata": {
  "kernelspec": {
   "display_name": "Python 3",
   "language": "python",
   "name": "python3"
  },
  "language_info": {
   "codemirror_mode": {
    "name": "ipython",
    "version": 3
   },
   "file_extension": ".py",
   "mimetype": "text/x-python",
   "name": "python",
   "nbconvert_exporter": "python",
   "pygments_lexer": "ipython3",
   "version": "3.8.8"
  }
 },
 "nbformat": 4,
 "nbformat_minor": 5
}
