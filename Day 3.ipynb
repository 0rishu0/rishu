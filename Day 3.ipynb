{
 "cells": [
  {
   "cell_type": "markdown",
   "id": "46fd04b5",
   "metadata": {},
   "source": [
    "# Booleans\n",
    "- Booleans can have two values: True and False.\n",
    "- we use this if the statement is correct or not."
   ]
  },
  {
   "cell_type": "code",
   "execution_count": 3,
   "id": "400cb4f5",
   "metadata": {},
   "outputs": [
    {
     "name": "stdout",
     "output_type": "stream",
     "text": [
      "True\n"
     ]
    },
    {
     "data": {
      "text/plain": [
       "bool"
      ]
     },
     "execution_count": 3,
     "metadata": {},
     "output_type": "execute_result"
    }
   ],
   "source": [
    "My_boolean = True\n",
    "\n",
    "print(My_boolean)\n",
    "\n",
    "type(My_boolean)"
   ]
  },
  {
   "cell_type": "code",
   "execution_count": 4,
   "id": "0358ac7d",
   "metadata": {},
   "outputs": [
    {
     "name": "stdout",
     "output_type": "stream",
     "text": [
      "False\n"
     ]
    }
   ],
   "source": [
    "print(2 == 3)"
   ]
  },
  {
   "cell_type": "code",
   "execution_count": 6,
   "id": "ba484a5a",
   "metadata": {},
   "outputs": [
    {
     "name": "stdout",
     "output_type": "stream",
     "text": [
      "True\n"
     ]
    }
   ],
   "source": [
    "print(\"hello\" == \"hello\")"
   ]
  },
  {
   "cell_type": "code",
   "execution_count": 5,
   "id": "f75d64c7",
   "metadata": {},
   "outputs": [],
   "source": [
    "#note : one equal sign for assigning a value to a variable\n",
    "#and two equal sign for comparing two values or elements"
   ]
  },
  {
   "cell_type": "code",
   "execution_count": 8,
   "id": "708b43d2",
   "metadata": {},
   "outputs": [
    {
     "name": "stdout",
     "output_type": "stream",
     "text": [
      "True\n",
      "True\n",
      "False\n",
      "True\n",
      "True\n"
     ]
    }
   ],
   "source": [
    "x = 7\n",
    "\n",
    "print(x != 8)\n",
    "print(x > 5)\n",
    "print(x < 2)\n",
    "print(x >= 7)\n",
    "print(x <= 7)"
   ]
  },
  {
   "cell_type": "code",
   "execution_count": 9,
   "id": "f6844aca",
   "metadata": {},
   "outputs": [
    {
     "data": {
      "text/plain": [
       "True"
      ]
     },
     "execution_count": 9,
     "metadata": {},
     "output_type": "execute_result"
    }
   ],
   "source": [
    "7 != 8    # this '!=' means 'not equal'"
   ]
  },
  {
   "cell_type": "markdown",
   "id": "94e3614c",
   "metadata": {},
   "source": [
    "# IF STATEMENT"
   ]
  },
  {
   "cell_type": "code",
   "execution_count": 10,
   "id": "33c794e2",
   "metadata": {},
   "outputs": [],
   "source": [
    "#SO NOW IF OUR STATEMENT IS TRUE OR FALSE, NOW WHAT??"
   ]
  },
  {
   "cell_type": "code",
   "execution_count": 13,
   "id": "715281e4",
   "metadata": {},
   "outputs": [
    {
     "name": "stdout",
     "output_type": "stream",
     "text": [
      "x is greater than 5\n"
     ]
    }
   ],
   "source": [
    "X = 42\n",
    "if x > 5:\n",
    "    \n",
    "    print(\"x is greater than 5\")  #the space before if statement is called indentation space before print"
   ]
  },
  {
   "cell_type": "code",
   "execution_count": 14,
   "id": "33c3d762",
   "metadata": {},
   "outputs": [
    {
     "name": "stdout",
     "output_type": "stream",
     "text": [
      "five\n"
     ]
    }
   ],
   "source": [
    "spam = 7\n",
    "\n",
    "if spam > 5:\n",
    "    print(\"five\")\n",
    "if spam > 8:\n",
    "    print(\"eight\")"
   ]
  },
  {
   "cell_type": "code",
   "execution_count": 20,
   "id": "7217ae7b",
   "metadata": {},
   "outputs": [
    {
     "name": "stdout",
     "output_type": "stream",
     "text": [
      "Bigger than 5\n",
      "Between 5 and 47\n"
     ]
    }
   ],
   "source": [
    "num = 12\n",
    "\n",
    "if num > 5:\n",
    "    print(\"Bigger than 5\")\n",
    "if num <= 47:\n",
    "    print(\"Between 5 and 47\")"
   ]
  },
  {
   "cell_type": "code",
   "execution_count": 21,
   "id": "e95d3ca5",
   "metadata": {},
   "outputs": [
    {
     "name": "stdout",
     "output_type": "stream",
     "text": [
      "eggs are more than 5\n",
      "eggs are more than 5 but less than 10\n"
     ]
    }
   ],
   "source": [
    "eggs = 8\n",
    "\n",
    "if eggs > 5:\n",
    "    print(\"eggs are more than 5\")\n",
    "if eggs < 10:\n",
    "    print(\"eggs are more than 5 but less than 10\")"
   ]
  },
  {
   "cell_type": "code",
   "execution_count": 23,
   "id": "741d7e83",
   "metadata": {},
   "outputs": [
    {
     "name": "stdout",
     "output_type": "stream",
     "text": [
      "three\n",
      "seven\n"
     ]
    }
   ],
   "source": [
    "num = 7\n",
    "\n",
    "if num > 3:\n",
    "    print(\"three\")\n",
    "if num < 5:\n",
    "    print(\"five\")\n",
    "if num == 7:\n",
    "    print(\"seven\")"
   ]
  },
  {
   "cell_type": "markdown",
   "id": "80c2ba60",
   "metadata": {},
   "source": [
    "# ELSE STATEMENTS"
   ]
  },
  {
   "cell_type": "code",
   "execution_count": 25,
   "id": "c4132498",
   "metadata": {},
   "outputs": [
    {
     "name": "stdout",
     "output_type": "stream",
     "text": [
      "No\n"
     ]
    }
   ],
   "source": [
    "x = 4\n",
    "\n",
    "if x == 5:\n",
    "    print(\"Yes\")\n",
    "else:\n",
    "    print(\"No\")"
   ]
  },
  {
   "cell_type": "code",
   "execution_count": 36,
   "id": "ff699d3a",
   "metadata": {},
   "outputs": [
    {
     "name": "stdout",
     "output_type": "stream",
     "text": [
      "False\n"
     ]
    }
   ],
   "source": [
    "if 1 + 1 == 2:\n",
    "    if 2*2 == 8:\n",
    "        print(\"True\")\n",
    "    else:\n",
    "        print(\"False\")"
   ]
  },
  {
   "cell_type": "code",
   "execution_count": 44,
   "id": "965329c6",
   "metadata": {},
   "outputs": [
    {
     "name": "stdout",
     "output_type": "stream",
     "text": [
      "Three\n"
     ]
    }
   ],
   "source": [
    "num = 3\n",
    "\n",
    "if num == 1:\n",
    "    print(\"One\")\n",
    "else:\n",
    "    if num == 2:\n",
    "        print(\"Two\")\n",
    "    else:\n",
    "        if num == 3:\n",
    "            print(\"Three\")\n",
    "        else:\n",
    "            print(\"something else\")"
   ]
  },
  {
   "cell_type": "code",
   "execution_count": 45,
   "id": "9a13f67a",
   "metadata": {},
   "outputs": [
    {
     "name": "stdout",
     "output_type": "stream",
     "text": [
      "else statement\n"
     ]
    }
   ],
   "source": [
    "x = 10\n",
    "y = 20\n",
    "\n",
    "if x > y:\n",
    "    print(\"if statement\")\n",
    "else:\n",
    "    print(\"else statement\")"
   ]
  },
  {
   "cell_type": "markdown",
   "id": "337fabdc",
   "metadata": {},
   "source": [
    "## ELIF\n",
    "- short for else if"
   ]
  },
  {
   "cell_type": "code",
   "execution_count": 47,
   "id": "53d4a4e4",
   "metadata": {},
   "outputs": [
    {
     "name": "stdout",
     "output_type": "stream",
     "text": [
      "Three\n"
     ]
    }
   ],
   "source": [
    "num = 3\n",
    "\n",
    "if num == 1:\n",
    "    print(\"One\")\n",
    "elif num == 2:\n",
    "    print(\"Two\")\n",
    "elif num == 3:\n",
    "    print(\"Three\")\n",
    "else:\n",
    "    print(\"Something else\")"
   ]
  },
  {
   "cell_type": "markdown",
   "id": "23915930",
   "metadata": {},
   "source": [
    "# BOOLEAN LOGIC\n",
    "- The Boolean 'and', 'or', 'not' operators allow to check for multiple conditions in an if statement\n",
    "\n",
    "## Boolean And\n",
    "- (and operator) It's True, if both conditions evaluate to True:"
   ]
  },
  {
   "cell_type": "code",
   "execution_count": 51,
   "id": "0ce38945",
   "metadata": {},
   "outputs": [
    {
     "name": "stdout",
     "output_type": "stream",
     "text": [
      "True\n",
      "False\n",
      "False\n",
      "False\n"
     ]
    }
   ],
   "source": [
    "print(1 == 1 and 2 == 2)\n",
    "print(1 == 1 and 2 == 3)\n",
    "print(1 != 1 and 2 == 2)\n",
    "print(2 < 1 and 3 > 6)"
   ]
  },
  {
   "cell_type": "code",
   "execution_count": 52,
   "id": "7e7de4bf",
   "metadata": {},
   "outputs": [
    {
     "name": "stdout",
     "output_type": "stream",
     "text": [
      "true\n"
     ]
    }
   ],
   "source": [
    "if(1 == 1) and (2 + 2 > 3):\n",
    "    print(\"true\")\n",
    "else:\n",
    "    print(\"false\")"
   ]
  },
  {
   "cell_type": "markdown",
   "id": "702dc8bb",
   "metadata": {},
   "source": [
    "## Boolean Or\n",
    "- The or operator is True if either (or both) of its condition are True\n",
    "- and false if both conditions are False"
   ]
  },
  {
   "cell_type": "code",
   "execution_count": 55,
   "id": "a18b55dc",
   "metadata": {},
   "outputs": [
    {
     "name": "stdout",
     "output_type": "stream",
     "text": [
      "True\n",
      "True\n",
      "True\n",
      "False\n",
      "False\n"
     ]
    }
   ],
   "source": [
    "print(1 == 1 or 2 == 2)\n",
    "print(1 != 1 or 2 == 2)\n",
    "print(1 == 1 or 2 == 3)\n",
    "print(2 < 1 or 3 > 6)\n",
    "print(1 == 3 or 3 == 4)"
   ]
  },
  {
   "cell_type": "code",
   "execution_count": 59,
   "id": "7e6c2a09",
   "metadata": {},
   "outputs": [
    {
     "name": "stdout",
     "output_type": "stream",
     "text": [
      "True\n",
      "True\n",
      "False\n",
      "True\n"
     ]
    }
   ],
   "source": [
    "#can also compare variable\n",
    "a = 2\n",
    "b = 10\n",
    "\n",
    "print(a == a or a == b)\n",
    "print(a > b or b > a)\n",
    "print(a > b or b < a)\n",
    "print(a != a or b > a)"
   ]
  },
  {
   "cell_type": "code",
   "execution_count": 62,
   "id": "82f08e00",
   "metadata": {},
   "outputs": [
    {
     "name": "stdout",
     "output_type": "stream",
     "text": [
      "Welcome\n"
     ]
    }
   ],
   "source": [
    "age = 15\n",
    "money = 500\n",
    "\n",
    "if age > 18 or money > 100:\n",
    "        print(\"Welcome\")"
   ]
  },
  {
   "cell_type": "markdown",
   "id": "b0d0a637",
   "metadata": {},
   "source": [
    "## Boolean Not\n",
    "- not takes just one argument, and inverts it\n",
    "- not True is False, and not False goes to True."
   ]
  },
  {
   "cell_type": "code",
   "execution_count": 63,
   "id": "64fc4314",
   "metadata": {},
   "outputs": [
    {
     "name": "stdout",
     "output_type": "stream",
     "text": [
      "False\n",
      "True\n"
     ]
    }
   ],
   "source": [
    "print(not 1 == 1)\n",
    "print(not 1 > 5)"
   ]
  },
  {
   "cell_type": "code",
   "execution_count": 71,
   "id": "3232095e",
   "metadata": {},
   "outputs": [
    {
     "name": "stdout",
     "output_type": "stream",
     "text": [
      "ok\n"
     ]
    }
   ],
   "source": [
    "if not True:\n",
    "    print(\"not ok\")\n",
    "else:\n",
    "    print(\"ok\")"
   ]
  },
  {
   "cell_type": "code",
   "execution_count": 70,
   "id": "4672204c",
   "metadata": {},
   "outputs": [
    {
     "name": "stdout",
     "output_type": "stream",
     "text": [
      "Y\n"
     ]
    }
   ],
   "source": [
    "if not (1 == 1):   #this means if 1 is not equal to 1 print \"N\" and if it is print \"Y\"\n",
    "    print(\"N\")\n",
    "else:\n",
    "    print(\"Y\")"
   ]
  },
  {
   "cell_type": "code",
   "execution_count": 72,
   "id": "b0d9a67c",
   "metadata": {},
   "outputs": [
    {
     "name": "stdout",
     "output_type": "stream",
     "text": [
      "2\n"
     ]
    }
   ],
   "source": [
    "if not True:     \n",
    "    print(\"1\")\n",
    "elif not(1 + 1 == 3):\n",
    "    print(\"2\")\n",
    "else:\n",
    "    print(\"3\")"
   ]
  },
  {
   "cell_type": "code",
   "execution_count": null,
   "id": "c42af15b",
   "metadata": {},
   "outputs": [],
   "source": []
  }
 ],
 "metadata": {
  "kernelspec": {
   "display_name": "Python 3",
   "language": "python",
   "name": "python3"
  },
  "language_info": {
   "codemirror_mode": {
    "name": "ipython",
    "version": 3
   },
   "file_extension": ".py",
   "mimetype": "text/x-python",
   "name": "python",
   "nbconvert_exporter": "python",
   "pygments_lexer": "ipython3",
   "version": "3.8.8"
  }
 },
 "nbformat": 4,
 "nbformat_minor": 5
}
